{
 "cells": [
  {
   "cell_type": "markdown",
   "metadata": {},
   "source": [
    "# Scaffolding project\n",
    "\n",
    "_DSAIT4050: Information retrieval lecture, TU Delft_\n",
    "\n",
    "Welcome to the **DSAIT4050: Information retrieval** lecture!\n",
    "\n",
    "This project acts as a gentle introduction to information retrieval for you. You do not need any prior knowledge about IR for this task. Only some Python programming skills are required.\n",
    "\n",
    "## Getting started\n",
    "\n",
    "Under the hood, this notebook uses a library called **PyTerrier**. Please check out the first part of our _Introduction to PyTerrier_ series to learn how to install PyTerrier. However, you do not need to interact with PyTerrier directly for now; rather, we're providing you with simple utility functions you can use. Feel free to have a look how these are implemented, but it's not required.\n",
    "\n",
    "**Task 1**: Install PyTerrier (see the `01-setup.ipynb` notebook).\n",
    "\n",
    "Now you should be able to import the utility functions. A dataset will be downloaded and indexed automatically (this will take a minute).\n"
   ]
  },
  {
   "cell_type": "code",
   "outputs": [
    {
     "name": "stdout",
     "output_type": "stream",
     "text": [
      "env: PYTHONUTF8=1\n",
      "env: JAVA_HOME=C:\\\\Program Files\\\\Java\\\\jdk-14.0.2\n"
     ]
    }
   ],
   "source": [
    "%env PYTHONUTF8 1\n",
    "%env JAVA_HOME C:\\\\Program Files\\\\Java\\\\jdk-14.0.2\n",
    "\n",
    "import pandas as pd"
   ],
   "metadata": {
    "collapsed": false,
    "ExecuteTime": {
     "end_time": "2025-02-24T08:35:08.461013300Z",
     "start_time": "2025-02-24T08:35:06.694731900Z"
    }
   },
   "execution_count": 1
  },
  {
   "cell_type": "code",
   "outputs": [],
   "source": [
    "from util import search, evaluate, evaluate_all, INDEX\n",
    "from pyterrier import IndexFactory, TerrierTokeniser"
   ],
   "metadata": {
    "ExecuteTime": {
     "end_time": "2025-02-24T13:18:24.007113200Z",
     "start_time": "2025-02-24T13:18:23.970827100Z"
    }
   },
   "execution_count": 70
  },
  {
   "cell_type": "markdown",
   "metadata": {},
   "source": [
    "Now that we have loaded the data, you can run search queries. For example:\n"
   ]
  },
  {
   "cell_type": "code",
   "execution_count": 10,
   "metadata": {
    "ExecuteTime": {
     "end_time": "2025-02-24T09:30:26.595367900Z",
     "start_time": "2025-02-24T09:30:26.455504700Z"
    }
   },
   "outputs": [
    {
     "data": {
      "text/plain": "  qid   docid       docno                                               text  \\\n0   1  185762   3803738_5  Your dog possibly getting ill and dying.  Get ...   \n1   1  288253   1345383_1  First of all, dogs can't be \"gay\".  Secondly, ...   \n2   1  117371   1658873_4  I think dogs are stupid.  My girlfriends dog d...   \n3   1  155139   118800_11  your dog is a dog and dogs like chasing cats- ...   \n4   1  276810   1722290_5  I have had many dogs who lived to be old dogs....   \n5   1  186953   2521790_1  Spending time with the dog does not mean the d...   \n6   1  155084    377792_2  Your dog is leaving his/her \"calling card\" for...   \n7   1  231815    673660_9  Get the dogs a dog house first of all. Then pu...   \n8   1   47231    169464_0  Because she dogs get f***** by more than one d...   \n9   1   83860  1614604_19             all dogs do that or your dog has fleas   \n\n   rank      score         query  \n0     0  10.800560  dog training  \n1     1  10.733361  dog training  \n2     2  10.729649  dog training  \n3     3  10.729649  dog training  \n4     4  10.715026  dog training  \n5     5  10.682956  dog training  \n6     6  10.648571  dog training  \n7     7  10.648571  dog training  \n8     8  10.642309  dog training  \n9     9  10.642309  dog training  ",
      "text/html": "<div>\n<style scoped>\n    .dataframe tbody tr th:only-of-type {\n        vertical-align: middle;\n    }\n\n    .dataframe tbody tr th {\n        vertical-align: top;\n    }\n\n    .dataframe thead th {\n        text-align: right;\n    }\n</style>\n<table border=\"1\" class=\"dataframe\">\n  <thead>\n    <tr style=\"text-align: right;\">\n      <th></th>\n      <th>qid</th>\n      <th>docid</th>\n      <th>docno</th>\n      <th>text</th>\n      <th>rank</th>\n      <th>score</th>\n      <th>query</th>\n    </tr>\n  </thead>\n  <tbody>\n    <tr>\n      <th>0</th>\n      <td>1</td>\n      <td>185762</td>\n      <td>3803738_5</td>\n      <td>Your dog possibly getting ill and dying.  Get ...</td>\n      <td>0</td>\n      <td>10.800560</td>\n      <td>dog training</td>\n    </tr>\n    <tr>\n      <th>1</th>\n      <td>1</td>\n      <td>288253</td>\n      <td>1345383_1</td>\n      <td>First of all, dogs can't be \"gay\".  Secondly, ...</td>\n      <td>1</td>\n      <td>10.733361</td>\n      <td>dog training</td>\n    </tr>\n    <tr>\n      <th>2</th>\n      <td>1</td>\n      <td>117371</td>\n      <td>1658873_4</td>\n      <td>I think dogs are stupid.  My girlfriends dog d...</td>\n      <td>2</td>\n      <td>10.729649</td>\n      <td>dog training</td>\n    </tr>\n    <tr>\n      <th>3</th>\n      <td>1</td>\n      <td>155139</td>\n      <td>118800_11</td>\n      <td>your dog is a dog and dogs like chasing cats- ...</td>\n      <td>3</td>\n      <td>10.729649</td>\n      <td>dog training</td>\n    </tr>\n    <tr>\n      <th>4</th>\n      <td>1</td>\n      <td>276810</td>\n      <td>1722290_5</td>\n      <td>I have had many dogs who lived to be old dogs....</td>\n      <td>4</td>\n      <td>10.715026</td>\n      <td>dog training</td>\n    </tr>\n    <tr>\n      <th>5</th>\n      <td>1</td>\n      <td>186953</td>\n      <td>2521790_1</td>\n      <td>Spending time with the dog does not mean the d...</td>\n      <td>5</td>\n      <td>10.682956</td>\n      <td>dog training</td>\n    </tr>\n    <tr>\n      <th>6</th>\n      <td>1</td>\n      <td>155084</td>\n      <td>377792_2</td>\n      <td>Your dog is leaving his/her \"calling card\" for...</td>\n      <td>6</td>\n      <td>10.648571</td>\n      <td>dog training</td>\n    </tr>\n    <tr>\n      <th>7</th>\n      <td>1</td>\n      <td>231815</td>\n      <td>673660_9</td>\n      <td>Get the dogs a dog house first of all. Then pu...</td>\n      <td>7</td>\n      <td>10.648571</td>\n      <td>dog training</td>\n    </tr>\n    <tr>\n      <th>8</th>\n      <td>1</td>\n      <td>47231</td>\n      <td>169464_0</td>\n      <td>Because she dogs get f***** by more than one d...</td>\n      <td>8</td>\n      <td>10.642309</td>\n      <td>dog training</td>\n    </tr>\n    <tr>\n      <th>9</th>\n      <td>1</td>\n      <td>83860</td>\n      <td>1614604_19</td>\n      <td>all dogs do that or your dog has fleas</td>\n      <td>9</td>\n      <td>10.642309</td>\n      <td>dog training</td>\n    </tr>\n  </tbody>\n</table>\n</div>"
     },
     "execution_count": 10,
     "metadata": {},
     "output_type": "execute_result"
    }
   ],
   "source": [
    "foo = search(\"dog training\")\n",
    "foo"
   ]
  },
  {
   "cell_type": "markdown",
   "metadata": {},
   "source": [
    "What you get here is a list of ten documents from the corpus that are ordered by how relevant they are to our query (according to the search engine).\n",
    "\n",
    "## Query rewriting\n",
    "\n",
    "The goal of this task is to come up with a way of **rewriting queries** such that the search engine can \"understand\" them better.\n",
    "\n",
    "In order to do this, let's first take a look at some example queries from our dataset. We represent these queries using a `pandas.DataFrame`, where the first column corresponds to the **query ID** and the second column corresponds to the **query**:\n"
   ]
  },
  {
   "cell_type": "code",
   "execution_count": 56,
   "metadata": {
    "ExecuteTime": {
     "end_time": "2025-02-11T10:35:31.276014700Z",
     "start_time": "2025-02-11T10:35:31.265026Z"
    }
   },
   "outputs": [],
   "source": [
    "example_queries = pd.DataFrame(\n",
    "    [\n",
    "        [\n",
    "            \"443848\",\n",
    "            \"does anybody know where i could get a free guide on how to train a siberian husky\",\n",
    "        ],\n",
    "        [\n",
    "            \"1783010\",\n",
    "            \"what is blaphsemy\",\n",
    "        ],\n",
    "        [\n",
    "            \"2838988\",\n",
    "            \"how can i get a cork out of not into a wine bottle without a corkscrew\",\n",
    "        ],\n",
    "    ],\n",
    "    columns=[\"qid\", \"query\"],\n",
    ")"
   ]
  },
  {
   "cell_type": "markdown",
   "metadata": {},
   "source": [
    "Since these queries are taken from the dataset, we can **evaluate the performance** of our search engine on these queries. This means that we know which documents the system should retrieve for each query.\n",
    "\n",
    "You can use the following evaluation function to do this. This function takes your queries and returns a score (mean average precision -- you will learn about this later). For now, all you need to know is that, the higher this score, the better the system works.\n",
    "\n",
    "Let's evaluate the queries we have:\n"
   ]
  },
  {
   "cell_type": "code",
   "execution_count": 15,
   "metadata": {
    "ExecuteTime": {
     "end_time": "2025-02-11T10:16:42.416158600Z",
     "start_time": "2025-02-11T10:16:42.278803800Z"
    }
   },
   "outputs": [
    {
     "name": "stdout",
     "output_type": "stream",
     "text": [
      "score: 0.07906002902973568\n"
     ]
    }
   ],
   "source": [
    "print(\"score:\", evaluate(example_queries))"
   ]
  },
  {
   "cell_type": "markdown",
   "metadata": {},
   "source": [
    "Now it's up to you to figure out if and how it's possible to make the search engine perform better on these queries. How would you query a search engine if you wanted to know about these topics? Experiment a bit.\n",
    "\n",
    "**Task 2**: Try to manually come up with ways to rewrite or reformulate the queries so the performance improves.\n",
    "\n",
    "**Important**: Make sure that the query IDs match! Otherwise, evaluation will not work.\n"
   ]
  },
  {
   "cell_type": "code",
   "outputs": [],
   "source": [
    "query_scores = []"
   ],
   "metadata": {
    "collapsed": false,
    "ExecuteTime": {
     "end_time": "2025-02-13T10:28:28.983568600Z",
     "start_time": "2025-02-13T10:28:28.975481600Z"
    }
   },
   "execution_count": 20
  },
  {
   "cell_type": "code",
   "execution_count": 37,
   "metadata": {
    "ExecuteTime": {
     "end_time": "2025-02-13T10:48:18.175201900Z",
     "start_time": "2025-02-13T10:48:17.985002700Z"
    }
   },
   "outputs": [
    {
     "name": "stdout",
     "output_type": "stream",
     "text": [
      "score after rewriting: 0.15556549533771236\n"
     ]
    }
   ],
   "source": [
    "query_eval = {\n",
    "    \"query\":\n",
    "        [\n",
    "            [\n",
    "                \"443848\",\n",
    "                \"how can i train a Siberian Husky dog\",\n",
    "            ],\n",
    "            [\n",
    "                \"1783010\",\n",
    "                \"blasphemy definition insult religion\",\n",
    "            ],\n",
    "            [\n",
    "                \"2838988\",\n",
    "                \"how can i remove cork from a wine bottle no corkscrew, knife\",\n",
    "            ],\n",
    "        ],\n",
    "}\n",
    "\n",
    "example_queries_rewritten = pd.DataFrame(query_eval[\"query\"], columns=[\"qid\", \"query\"])\n",
    "score = evaluate(example_queries_rewritten)\n",
    "query_eval['score'] = score\n",
    "query_scores.append(query_eval)\n",
    "# current best: \"how can i remove cork from a wine bottle no corkscrew, knife\",\n",
    "\n",
    "print(\"score after rewriting:\", score)"
   ]
  },
  {
   "cell_type": "code",
   "outputs": [
    {
     "data": {
      "text/plain": "[{'query': [['443848', 'how can i train a Siberian Husky dog'],\n   ['1783010', 'blasphemy definition insult religion'],\n   ['2838988',\n    'how can i take out cork from a wine bottle no corkscrew, knife']],\n  'score': np.float64(0.153324827792697)},\n {'query': [['443848', 'how can i train a Siberian Husky dog'],\n   ['1783010', 'blasphemy definition insult religion'],\n   ['2838988',\n    'how can i remove take out cork from a wine bottle no corkscrew, knife']],\n  'score': np.float64(0.153324827792697)},\n {'query': [['443848', 'how can i train a Siberian Husky dog'],\n   ['1783010', 'blasphemy definition insult religion'],\n   ['2838988',\n    'how can i remove cork from a wine bottle no corkscrew, knife']],\n  'score': np.float64(0.15556549533771236)},\n {'query': [['443848', 'how can i train a Siberian Husky dog'],\n   ['1783010', 'blasphemy definition insult religion'],\n   ['2838988', 'how can i remove plug from a wine bottle no opener']],\n  'score': np.float64(0.04969761084602401)},\n {'query': [['443848', 'how can i train a Siberian Husky dog'],\n   ['1783010', 'blasphemy definition insult religion'],\n   ['2838988', 'how can i remove plug from a wine bottle  corkscrew, knife']],\n  'score': np.float64(0.11608993448688192)},\n {'query': [['443848', 'how can i train a Siberian Husky dog'],\n   ['1783010', 'blasphemy definition insult religion'],\n   ['2838988',\n    'how can i remove plug from a wine bottle no corkscrew, knife']],\n  'score': np.float64(0.11608993448688192)},\n {'query': [['443848', 'how can i train a Siberian Husky dog'],\n   ['1783010', 'blasphemy definition insult religion'],\n   ['2838988',\n    'how can i remove cork from a wine bottle no corkscrew, knife']],\n  'score': np.float64(0.15556549533771236)},\n {'query': [['443848', 'how can i train a Siberian Husky dog'],\n   ['1783010', 'blasphemy definition insult religion'],\n   ['2838988', 'how can i remove cork from a wine bottle no opener, knife']],\n  'score': np.float64(0.15556549533771236)}]"
     },
     "execution_count": 34,
     "metadata": {},
     "output_type": "execute_result"
    }
   ],
   "source": [
    "query_scores"
   ],
   "metadata": {
    "collapsed": false,
    "ExecuteTime": {
     "end_time": "2025-02-13T10:47:04.499035800Z",
     "start_time": "2025-02-13T10:47:04.483999900Z"
    }
   },
   "execution_count": 34
  },
  {
   "cell_type": "markdown",
   "metadata": {},
   "source": [
    "# An automatic approach\n",
    "\n",
    "In this last part, we'll try to come up with an automatic approach to perform query re-writing. Use your findings from task 2 for this.\n",
    "\n",
    "**Task 3**: Implement a function that automatically re-writes any input query.\n",
    "\n",
    "You can use any approach or library you want for this task. However, keep in mind that simple ideas often work well!\n"
   ]
  },
  {
   "cell_type": "code",
   "outputs": [],
   "source": [
    "import nltk\n",
    "from nltk.corpus import stopwords, wordnet\n",
    "from nltk.tokenize import word_tokenize\n",
    "from nltk.tag import pos_tag\n",
    "import string"
   ],
   "metadata": {
    "collapsed": false,
    "ExecuteTime": {
     "end_time": "2025-02-24T09:06:15.957545400Z",
     "start_time": "2025-02-24T09:06:09.165083900Z"
    }
   },
   "execution_count": 3
  },
  {
   "cell_type": "code",
   "outputs": [],
   "source": [
    "from nltk.corpus import brown\n",
    "import math\n",
    "from collections import defaultdict\n",
    "\n",
    "\n",
    "def calculate_brown_idf():\n",
    "    \"\"\"\n",
    "    Calculates IDF scores for words in the Brown corpus.\n",
    "    \n",
    "    Returns:\n",
    "    - DataFrame with TF-IDF scores for each category\n",
    "    - Dictionary mapping words to their corpus-wide IDF scores\n",
    "    \"\"\"\n",
    "    # Get all categories\n",
    "    file_ids = brown.fileids()\n",
    "\n",
    "    # Calculate document frequencies (DF) across all categories\n",
    "    doc_frequencies = defaultdict(int)\n",
    "    document_word_counts = {}\n",
    "\n",
    "    # Count words in each category and document frequencies\n",
    "    for file_id in file_ids:\n",
    "        # Get words for this category\n",
    "        words = brown.words(fileids=file_id)\n",
    "        # Convert to lowercase and count\n",
    "        word_counts = Counter(word.lower() for word in words)\n",
    "        document_word_counts[file_id] = word_counts\n",
    "\n",
    "        # Update document frequencies\n",
    "        for word in word_counts:\n",
    "            doc_frequencies[word] += 1\n",
    "\n",
    "    # Calculate IDF scores\n",
    "    num_docs = len(file_ids)\n",
    "    idf_scores = {word: math.log(num_docs / freq) for word, freq in doc_frequencies.items()}\n",
    "\n",
    "    return idf_scores"
   ],
   "metadata": {
    "collapsed": false,
    "ExecuteTime": {
     "end_time": "2025-02-24T09:17:14.474083200Z",
     "start_time": "2025-02-24T09:17:14.465928700Z"
    }
   },
   "execution_count": 6
  },
  {
   "cell_type": "code",
   "outputs": [
    {
     "name": "stderr",
     "output_type": "stream",
     "text": [
      "[nltk_data] Downloading package punkt to\n",
      "[nltk_data]     C:\\Users\\skakr\\AppData\\Roaming\\nltk_data...\n",
      "[nltk_data]   Package punkt is already up-to-date!\n",
      "[nltk_data] Downloading package averaged_perceptron_tagger to\n",
      "[nltk_data]     C:\\Users\\skakr\\AppData\\Roaming\\nltk_data...\n",
      "[nltk_data]   Package averaged_perceptron_tagger is already up-to-\n",
      "[nltk_data]       date!\n",
      "[nltk_data] Downloading package stopwords to\n",
      "[nltk_data]     C:\\Users\\skakr\\AppData\\Roaming\\nltk_data...\n",
      "[nltk_data]   Unzipping corpora\\stopwords.zip.\n",
      "[nltk_data] Downloading package wordnet to\n",
      "[nltk_data]     C:\\Users\\skakr\\AppData\\Roaming\\nltk_data...\n",
      "[nltk_data]   Package wordnet is already up-to-date!\n"
     ]
    }
   ],
   "source": [
    "\n",
    "nltk.download('punkt')\n",
    "nltk.download('averaged_perceptron_tagger')\n",
    "nltk.download('stopwords')\n",
    "nltk.download('wordnet')\n",
    "\n",
    "\n",
    "def get_word_scores(sentence):\n",
    "    \"\"\"\n",
    "    Find the most important word in a sentence using NLTK for analysis.\n",
    "    \n",
    "    Args:\n",
    "        sentence (str): Input sentence to analyze\n",
    "        \n",
    "    Returns:\n",
    "        tuple: (word, score) - The most important word and its importance score\n",
    "    \"\"\"\n",
    "    # Clean and tokenize the sentence\n",
    "    tokens = word_tokenize(sentence.lower())\n",
    "\n",
    "    # Remove punctuation and stop words\n",
    "    stop_words = set(stopwords.words('english'))\n",
    "    tokens = [word for word in tokens\n",
    "              if word not in stop_words\n",
    "              and word not in string.punctuation]\n",
    "\n",
    "    if not tokens:\n",
    "        return None, 0\n",
    "\n",
    "    # Get POS tags\n",
    "    pos_tags = pos_tag(tokens)\n",
    "\n",
    "    # Score words based on multiple factors\n",
    "    word_scores = {}\n",
    "\n",
    "    for word, pos in pos_tags:\n",
    "        score = 0\n",
    "        word_scores[word] = {}\n",
    "\n",
    "        # 1. POS tag importance\n",
    "        pos_scores = {\n",
    "            'NN': 3.0,  # Nouns\n",
    "            'NNP': 4.0,  # Proper nouns\n",
    "            'NNPS': 4.0,\n",
    "            'NNS': 3.0,\n",
    "            'VB': 3.5,  # Verbs\n",
    "            'VBD': 3.5,\n",
    "            'VBG': 3.5,\n",
    "            'VBN': 3.5,\n",
    "            'VBP': 3.5,\n",
    "            'VBZ': 3.5,\n",
    "            'JJ': 2.0,  # Adjectives\n",
    "            'JJR': 2.0,\n",
    "            'JJS': 2.0,\n",
    "            'RB': 1.5,  # Adverbs\n",
    "        }\n",
    "        score += pos_scores.get(pos, 1.0)\n",
    "        word_scores[word]['pos'] = {'pos': pos, 'score': score}\n",
    "\n",
    "        # 2. Word length (normalized)\n",
    "        score += len(word) / 10\n",
    "        word_scores[word]['len'] = {'len(word)': len(word), 'score': len(word) / 10}\n",
    "\n",
    "        # 3. Word complexity (number of syllables approximation)\n",
    "        vowels = 'aeiou'\n",
    "        syllable_count = sum(1 for letter in word if letter in vowels)\n",
    "        score += syllable_count / 5\n",
    "        word_scores[word]['syl'] = {'syllable_count': syllable_count, 'score': syllable_count / 5}\n",
    "\n",
    "        # 4. Check if word has WordNet entries (indicates it's a meaningful word)\n",
    "        if wordnet.synsets(word):\n",
    "            score += 1\n",
    "\n",
    "            # Add score based on number of meanings (indicates word importance)\n",
    "            synonyms = wordnet.synsets(word)\n",
    "            score += len(synonyms) / 10\n",
    "            word_scores[word]['syn'] = {'synonyms': synonyms, 'score': len(synonyms) / 10}\n",
    "        else:\n",
    "            word_scores[word]['syn'] = {'synonyms': [], 'score': 0}\n",
    "\n",
    "        word_scores[word]['score'] = score\n",
    "\n",
    "    return word_scores\n"
   ],
   "metadata": {
    "collapsed": false,
    "ExecuteTime": {
     "end_time": "2025-02-24T14:09:29.560688100Z",
     "start_time": "2025-02-24T14:09:29.307957300Z"
    }
   },
   "execution_count": 87
  },
  {
   "cell_type": "code",
   "outputs": [
    {
     "data": {
      "text/plain": "{'the': 0.0,\n 'fulton': 5.115995809754082,\n 'county': 2.0874737133771,\n 'grand': 2.5510464522925456,\n 'jury': 3.123565645063876,\n 'said': 0.4557063245449111,\n 'friday': 2.6882475738060303,\n 'an': 0.004008021397538868,\n 'investigation': 2.6036901857779675,\n 'of': 0.0,\n \"atlanta's\": 5.521460917862246,\n 'recent': 1.4271163556401458,\n 'primary': 2.1037342342488805,\n 'election': 2.8134107167600364,\n 'produced': 2.0249533563957662,\n '``': 0.07904320734045288,\n 'no': 0.07042246429654579,\n 'evidence': 1.4188175528254505,\n \"''\": 0.07688104433595759,\n 'that': 0.0,\n 'any': 0.14387037041970183,\n 'irregularities': 4.422848629194137,\n 'took': 0.7896580809407889,\n 'place': 0.53785429615391,\n '.': 0.0,\n 'further': 1.2173958246580767,\n 'in': 0.0,\n 'term-end': 6.214608098422191,\n 'presentments': 6.214608098422191,\n 'city': 1.1647520911726548,\n 'executive': 2.5257286443082556,\n 'committee': 2.0714733720306593,\n ',': 0.0,\n 'which': 0.05340077672711525,\n 'had': 0.16960278438617996,\n 'over-all': 3.036554268074246,\n 'charge': 1.8451602459551701,\n 'deserves': 3.4420193761824107,\n 'praise': 3.3813947543659757,\n 'and': 0.0,\n 'thanks': 2.7488721956224653,\n 'atlanta': 3.912023005428146,\n 'for': 0.0,\n 'manner': 1.5994875815809322,\n 'was': 0.07042246429654579,\n 'conducted': 2.6036901857779675,\n 'september-october': 6.214608098422191,\n 'term': 2.1892564076870427,\n 'been': 0.04709160753385059,\n 'charged': 2.6036901857779675,\n 'by': 0.004008021397538868,\n 'superior': 2.6882475738060303,\n 'court': 2.05572501506252,\n 'judge': 2.4304184645039304,\n 'durwood': 6.214608098422191,\n 'pye': 6.214608098422191,\n 'to': 0.0,\n 'investigate': 3.816712825623821,\n 'reports': 2.0402208285265546,\n 'possible': 0.7940730991499058,\n 'hard-fought': 5.521460917862246,\n 'won': 2.385966701933097,\n 'mayor-nominate': 6.214608098422191,\n 'ivan': 5.115995809754082,\n 'allen': 3.3813947543659757,\n 'jr.': 2.8134107167600364,\n 'only': 0.083381608939051,\n 'a': 0.0,\n 'relative': 2.5770219386958058,\n 'handful': 3.649658740960655,\n 'such': 0.22314355131420976,\n 'received': 1.5511690043101247,\n 'considering': 2.5257286443082556,\n 'widespread': 2.9565115604007097,\n 'interest': 1.07880966137193,\n 'number': 0.8964881045779755,\n 'voters': 3.575550768806933,\n 'size': 1.8078888511579387,\n 'this': 0.010050335853501506,\n 'it': 0.0,\n 'did': 0.43078291609245434,\n 'find': 0.7133498878774648,\n 'many': 0.3147107448397002,\n \"georgia's\": 4.8283137373023015,\n 'registration': 4.017383521085972,\n 'laws': 2.4769384801388235,\n 'are': 0.0987159729391578,\n 'outmoded': 4.8283137373023015,\n 'or': 0.016129381929883717,\n 'inadequate': 2.8473122684357177,\n 'often': 0.8867319296326106,\n 'ambiguous': 3.4420193761824107,\n 'recommended': 2.7181005369557116,\n 'legislators': 3.7297014486341915,\n 'act': 1.4024237430497744,\n 'have': 0.004008021397538868,\n 'these': 0.19116050546115898,\n 'studied': 1.9519282213808764,\n 'revised': 3.7297014486341915,\n 'end': 0.7133498878774648,\n 'modernizing': 5.115995809754082,\n 'improving': 3.506557897319982,\n 'them': 0.1531511794941748,\n 'commented': 3.3813947543659757,\n 'on': 0.0,\n 'other': 0.07904320734045288,\n 'topics': 3.912023005428146,\n 'among': 0.8486320834003402,\n 'purchasing': 3.912023005428146,\n 'departments': 3.575550768806933,\n 'well': 0.2665731092415458,\n 'operated': 3.079113882493042,\n 'follow': 1.748699979767608,\n 'generally': 1.6094379124341003,\n 'accepted': 1.8838747581358606,\n 'practices': 2.8134107167600364,\n 'inure': 5.521460917862246,\n 'best': 0.7940730991499058,\n 'both': 0.39452516806982996,\n 'governments': 2.7488721956224653,\n 'merger': 4.017383521085972,\n 'proposed': 2.24431618487007,\n 'however': 0.5727010274840781,\n 'believes': 2.8134107167600364,\n 'two': 0.1531511794941748,\n 'offices': 2.9565115604007097,\n 'should': 0.44628710262841953,\n 'be': 0.0020020026706729687,\n 'combined': 2.659260036932778,\n 'achieve': 2.5257286443082556,\n 'greater': 1.4354846053106625,\n 'efficiency': 2.882403588246988,\n 'reduce': 2.4304184645039304,\n 'cost': 1.748699979767608,\n 'administration': 2.0402208285265546,\n 'department': 1.8078888511579387,\n 'is': 0.03045920748470844,\n 'lacking': 2.882403588246988,\n 'experienced': 2.385966701933097,\n 'clerical': 4.135166556742356,\n 'personnel': 2.4304184645039304,\n 'as': 0.0,\n 'result': 1.2241755116434554,\n 'policies': 2.631089159966082,\n 'urged': 2.7806208939370456,\n 'take': 0.5208759596194922,\n 'steps': 1.9661128563728327,\n 'remedy': 3.912023005428146,\n 'problem': 1.1776554960085626,\n 'implementation': 4.268697949366879,\n 'automobile': 3.123565645063876,\n 'title': 2.4304184645039304,\n 'law': 1.6194882482876019,\n 'also': 0.2665731092415458,\n 'outgoing': 4.135166556742356,\n 'next': 0.7423374247507171,\n 'legislature': 3.649658740960655,\n 'provide': 1.4024237430497744,\n 'enabling': 3.816712825623821,\n 'funds': 2.385966701933097,\n 're-set': 6.214608098422191,\n 'effective': 1.725971728690052,\n 'date': 2.0402208285265546,\n 'so': 0.06827884075329452,\n 'orderly': 3.4420193761824107,\n 'may': 0.3768776512562518,\n 'effected': 3.912023005428146,\n 'swipe': 5.521460917862246,\n 'at': 0.0,\n 'state': 0.9263410677276565,\n 'welfare': 2.6036901857779675,\n \"department's\": 4.017383521085972,\n 'handling': 2.9565115604007097,\n 'federal': 2.0249533563957662,\n 'granted': 2.4769384801388235,\n 'child': 1.725971728690052,\n 'services': 1.9661128563728327,\n 'foster': 4.017383521085972,\n 'homes': 2.322787800311565,\n 'one': 0.008032171697264253,\n 'major': 1.2517634681622845,\n 'items': 2.5510464522925456,\n 'general': 0.8770700187208738,\n 'assistance': 2.659260036932778,\n 'program': 1.4354846053106625,\n 'but': 0.02020270731751947,\n 'has': 0.2033409240180301,\n 'seen': 1.0216512475319812,\n 'fit': 2.1715568305876416,\n 'distribute': 4.422848629194137,\n 'through': 0.2957142441490451,\n 'all': 0.01816397062767112,\n 'counties': 3.170085660698769,\n 'with': 0.0,\n 'exception': 2.7181005369557116,\n 'receives': 3.270169119255751,\n 'none': 1.6607312068216509,\n 'money': 1.2517634681622845,\n 'jurors': 5.115995809754082,\n 'they': 0.03459144476961908,\n 'realize': 2.1541650878757723,\n 'proportionate': 4.268697949366879,\n 'distribution': 2.5770219386958058,\n 'might': 0.47803580094299974,\n 'disable': 6.214608098422191,\n 'our': 0.5798184952529422,\n 'less': 0.7507762933965817,\n 'populous': 4.605170185988092,\n 'nevertheless': 2.0714733720306593,\n 'we': 0.3174542307854511,\n 'feel': 1.2378743560016172,\n 'future': 1.3167682984712803,\n 'receive': 2.1892564076870427,\n 'some': 0.127833371509885,\n 'portion': 2.5257286443082556,\n 'available': 1.443923473956527,\n 'failure': 2.1892564076870427,\n 'do': 0.23319388716771114,\n 'will': 0.2033409240180301,\n 'continue': 1.7719568419318754,\n 'disproportionate': 5.521460917862246,\n 'burden': 2.5257286443082556,\n 'taxpayers': 3.649658740960655,\n \"ordinary's\": 6.214608098422191,\n 'under': 0.40346710544549136,\n 'fire': 1.579879110192556,\n 'its': 0.16016875215282136,\n 'appointment': 3.123565645063876,\n 'appraisers': 6.214608098422191,\n 'guardians': 4.8283137373023015,\n 'administrators': 4.605170185988092,\n 'awarding': 5.521460917862246,\n 'fees': 3.649658740960655,\n 'compensation': 3.575550768806933,\n 'wards': 5.521460917862246,\n 'protected': 2.9187712324178627,\n 'found': 0.6124892775424909,\n 'incorporated': 3.912023005428146,\n 'into': 0.07472354619593657,\n 'operating': 2.4304184645039304,\n 'procedures': 2.6882475738060303,\n 'recommendations': 3.3813947543659757,\n 'previous': 1.8838747581358606,\n 'juries': 6.214608098422191,\n 'bar': 2.6882475738060303,\n 'association': 2.0099154790312257,\n 'interim': 4.017383521085972,\n 'citizens': 2.2633643798407643,\n 'actions': 2.322787800311565,\n 'serve': 1.783791299578878,\n 'protect': 2.8134107167600364,\n 'fact': 0.7635696448564911,\n 'effect': 1.2946271725940668,\n \"court's\": 4.605170185988092,\n 'from': 0.0,\n 'undue': 3.649658740960655,\n 'costs': 2.364460496712133,\n 'appointed': 2.6882475738060303,\n 'elected': 2.995732273553991,\n 'servants': 3.506557897319982,\n 'unmeritorious': 6.214608098422191,\n 'criticisms': 3.912023005428146,\n 'regarding': 2.7181005369557116,\n 'new': 0.25360275879891836,\n 'multi-million-dollar': 5.521460917862246,\n 'airport': 3.7297014486341915,\n 'when': 0.06613980250454499,\n 'management': 2.7488721956224653,\n 'takes': 1.870802676568508,\n 'jan.': 3.575550768806933,\n '1': 1.1394342831883648,\n 'eliminate': 2.995732273553991,\n 'political': 1.579879110192556,\n 'influences': 3.575550768806933,\n 'not': 0.010050335853501506,\n 'elaborate': 2.8473122684357177,\n 'added': 1.3625778345025745,\n 'there': 0.06827884075329452,\n 'periodic': 4.017383521085972,\n 'surveillance': 4.422848629194137,\n 'pricing': 4.605170185988092,\n 'concessionaires': 5.521460917862246,\n 'purpose': 1.5417792639602856,\n 'keeping': 2.3434070875143007,\n 'prices': 2.995732273553991,\n 'reasonable': 2.282782465697866,\n 'ask': 1.7147984280919266,\n 'jail': 3.649658740960655,\n 'deputies': 4.135166556742356,\n 'matters': 2.302585092994046,\n ':': 0.22564668153232822,\n '(': 0.3652833184753325,\n ')': 0.36240561864771736,\n 'four': 0.843970070294529,\n 'additional': 1.7719568419318754,\n 'employed': 2.4769384801388235,\n 'doctor': 2.4304184645039304,\n 'medical': 2.322787800311565,\n 'intern': 5.521460917862246,\n 'extern': 6.214608098422191,\n 'night': 1.0051219455807707,\n 'weekend': 3.170085660698769,\n 'duty': 2.385966701933097,\n '2': 1.0906441190189329,\n 'work': 0.47481518624295754,\n 'officials': 2.3434070875143007,\n 'pass': 2.0714733720306593,\n 'legislation': 2.882403588246988,\n 'permit': 2.1541650878757723,\n 'establishment': 2.4534079827286295,\n 'fair': 2.1715568305876416,\n 'equitable': 4.268697949366879,\n 'pension': 4.135166556742356,\n 'plan': 1.6607312068216509,\n 'employes': 3.7297014486341915,\n 'praised': 3.7297014486341915,\n 'operation': 1.9519282213808764,\n 'police': 2.1892564076870427,\n 'tax': 2.5510464522925456,\n \"commissioner's\": 6.214608098422191,\n 'office': 1.3704210119636004,\n 'bellwood': 6.214608098422191,\n 'alpharetta': 6.214608098422191,\n 'prison': 2.995732273553991,\n 'farms': 3.7297014486341915,\n 'grady': 5.115995809754082,\n 'hospital': 2.3434070875143007,\n 'health': 2.0249533563957662,\n 'mayor': 3.506557897319982,\n 'william': 1.870802676568508,\n 'b.': 2.501036031717884,\n 'hartsfield': 6.214608098422191,\n 'filed': 3.123565645063876,\n 'suit': 2.5510464522925456,\n 'divorce': 3.4420193761824107,\n 'his': 0.1392620673335076,\n 'wife': 1.4696759700589417,\n 'pearl': 4.017383521085972,\n 'williams': 3.4420193761824107,\n 'petition': 4.017383521085972,\n 'mental': 2.659260036932778,\n 'cruelty': 3.649658740960655,\n 'couple': 1.783791299578878,\n 'married': 2.1715568305876416,\n 'aug.': 3.816712825623821,\n '1913': 4.017383521085972,\n 'son': 1.7957674906255938,\n 'berry': 4.422848629194137,\n 'daughter': 2.4534079827286295,\n 'mrs.': 1.5994875815809322,\n 'j.': 2.05572501506252,\n 'm.': 2.4304184645039304,\n 'cheshire': 6.214608098422191,\n 'griffin': 5.115995809754082,\n 'attorneys': 4.135166556742356,\n 'amicable': 6.214608098422191,\n 'property': 2.1037342342488805,\n 'settlement': 3.649658740960655,\n 'agreed': 2.1892564076870427,\n 'upon': 0.7550225842780328,\n 'listed': 2.7488721956224653,\n \"mayor's\": 4.605170185988092,\n 'occupation': 3.2188758248682006,\n 'attorney': 2.7806208939370456,\n 'age': 1.3862943611198906,\n '71': 4.422848629194137,\n \"wife's\": 3.7297014486341915,\n '74': 4.422848629194137,\n 'birth': 2.7488721956224653,\n 'opelika': 5.521460917862246,\n 'ala.': 4.8283137373023015,\n 'lived': 1.783791299578878,\n 'together': 0.9571127263944101,\n 'man': 0.44941699563734716,\n 'more': 0.05129329438755048,\n 'than': 0.09211528890780574,\n 'year': 0.8533159327127667,\n 'home': 0.7215466550816433,\n '637': 6.214608098422191,\n 'e.': 2.2633643798407643,\n 'pelham': 6.214608098422191,\n 'rd.': 5.115995809754082,\n 'aj': 2.137070654516472,\n 'henry': 2.2633643798407643,\n 'l.': 2.631089159966082,\n 'bowden': 5.521460917862246,\n 'brief': 2.120263536200091,\n 'interlude': 4.605170185988092,\n 'since': 0.4684049078820386,\n '1937': 3.912023005428146,\n 'career': 2.385966701933097,\n 'goes': 1.9105430052180221,\n 'back': 0.4845083154486173,\n 'council': 2.4304184645039304,\n '1923': 4.268697949366879,\n 'present': 0.8533159327127667,\n 'expires': 6.214608098422191,\n 'he': 0.15548490284039496,\n 'succeeded': 2.8134107167600364,\n 'who': 0.17435338714477774,\n 'became': 1.1973282616072674,\n 'candidate': 3.2188758248682006,\n 'sept.': 3.912023005428146,\n '13': 2.5770219386958058,\n 'after': 0.2797139028026041,\n 'announced': 1.995100393246085,\n 'would': 0.10981486600720661,\n 'run': 1.2946271725940668,\n 'reelection': 5.521460917862246,\n 'georgia': 3.4420193761824107,\n 'republicans': 3.4420193761824107,\n 'getting': 1.410587053688935,\n 'strong': 1.324258970200438,\n 'encouragement': 3.575550768806933,\n 'enter': 2.05572501506252,\n '1962': 3.575550768806933,\n \"governor's\": 4.135166556742356,\n 'race': 2.2256240518579173,\n 'top': 1.3625778345025745,\n 'official': 2.120263536200091,\n 'wednesday': 2.9187712324178627,\n 'robert': 2.1892564076870427,\n 'snodgrass': 5.521460917862246,\n 'gop': 4.605170185988092,\n 'chairman': 2.4769384801388235,\n 'meeting': 1.8325814637483102,\n 'held': 1.0906441190189329,\n 'tuesday': 2.8134107167600364,\n 'blue': 1.7719568419318754,\n 'ridge': 3.4420193761824107,\n 'brought': 1.0272222925814367,\n 'enthusiastic': 3.036554268074246,\n 'responses': 3.4420193761824107,\n 'audience': 2.364460496712133,\n 'party': 1.748699979767608,\n 'james': 2.120263536200091,\n 'w.': 2.1892564076870427,\n 'dorsey': 6.214608098422191,\n 'enthusiasm': 2.9565115604007097,\n 'picking': 3.575550768806933,\n 'up': 0.1531511794941748,\n 'rally': 3.912023005428146,\n '8': 1.9805015938249324,\n 'savannah': 4.605170185988092,\n 'newly': 3.079113882493042,\n 'texas': 2.9187712324178627,\n 'sen.': 3.7297014486341915,\n 'john': 1.4354846053106625,\n 'tower': 3.912023005428146,\n 'featured': 4.268697949366879,\n 'speaker': 3.079113882493042,\n 'warned': 3.4420193761824107,\n 'entering': 3.079113882493042,\n 'governor': 2.7488721956224653,\n 'force': 1.410587053688935,\n 'petitions': 4.8283137373023015,\n 'out': 0.0987159729391578,\n 'voting': 3.3813947543659757,\n 'precincts': 5.115995809754082,\n 'obtain': 2.5510464522925456,\n 'signatures': 5.521460917862246,\n 'registered': 3.2188758248682006,\n 'despite': 1.870802676568508,\n 'warning': 2.8134107167600364,\n 'unanimous': 4.605170185988092,\n 'vote': 2.6036901857779675,\n 'according': 1.6296406197516198,\n 'attended': 2.7806208939370456,\n 'crowd': 2.5257286443082556,\n 'asked': 0.9162907318741551,\n 'whether': 1.07880966137193,\n 'wanted': 1.3547956940605195,\n 'wait': 2.0874737133771,\n 'make': 0.3147107448397002,\n 'voted': 3.123565645063876,\n '--': 0.15548490284039496,\n 'were': 0.0987159729391578,\n 'dissents': 5.521460917862246,\n 'largest': 2.4534079827286295,\n 'hurdle': 5.115995809754082,\n 'face': 0.9728610833625494,\n 'says': 1.4961092271270973,\n 'before': 0.2665731092415458,\n 'making': 1.0498221244986776,\n 'first': 0.1508228897345837,\n 'alternative': 3.036554268074246,\n 'courses': 3.170085660698769,\n 'must': 0.3595361762197646,\n 'taken': 0.9263410677276565,\n 'five': 1.1086626245216111,\n 'per': 1.6502599069543555,\n 'cent': 2.2633643798407643,\n 'each': 0.44628710262841953,\n 'sign': 2.1892564076870427,\n 'requesting': 4.268697949366879,\n 'allowed': 2.120263536200091,\n 'names': 2.207274913189721,\n 'candidates': 3.3813947543659757,\n 'ballot': 3.912023005428146,\n 'hold': 1.4271163556401458,\n 'unit': 2.2633643798407643,\n 'system': 1.324258970200438,\n 'opposes': 5.521460917862246,\n 'platform': 3.4420193761824107,\n 'sam': 2.9565115604007097,\n 'caldwell': 5.521460917862246,\n 'highway': 3.079113882493042,\n 'public': 1.0216512475319812,\n 'relations': 2.05572501506252,\n 'director': 2.207274913189721,\n 'resigned': 4.135166556742356,\n 'lt.': 4.605170185988092,\n 'gov.': 3.816712825623821,\n 'garland': 4.605170185988092,\n \"byrd's\": 5.521460917862246,\n 'campaign': 2.6036901857779675,\n \"caldwell's\": 5.521460917862246,\n 'resignation': 4.268697949366879,\n 'expected': 1.4024237430497744,\n 'time': 0.11204950380862293,\n 'rob': 4.605170185988092,\n 'ledford': 6.214608098422191,\n 'gainesville': 6.214608098422191,\n 'assistant': 2.7806208939370456,\n 'three': 0.5516476182862459,\n 'years': 0.3681693233644675,\n 'gubernatorial': 5.115995809754082,\n 'starts': 2.882403588246988,\n 'become': 0.8722738464573807,\n 'coordinator': 5.115995809754082,\n 'byrd': 4.268697949366879,\n 'wind': 2.407945608651872,\n '1961': 2.282782465697866,\n 'session': 2.4534079827286295,\n 'monday': 2.8134107167600364,\n 'head': 0.9675840262617057,\n 'where': 0.2957142441490451,\n 'bond': 3.2188758248682006,\n 'approved': 2.9187712324178627,\n 'shortly': 2.8473122684357177,\n 'adjournment': 5.115995809754082,\n 'afternoon': 1.8971199848858813,\n 'senate': 2.9565115604007097,\n 'approve': 3.7297014486341915,\n 'study': 1.4524341636244356,\n 'allotted': 4.268697949366879,\n 'rural': 2.9187712324178627,\n 'urban': 3.123565645063876,\n 'areas': 1.4271163556401458,\n 'determine': 2.0099154790312257,\n 'what': 0.16487464319023404,\n 'adjustments': 3.816712825623821,\n 'made': 0.18392283816092841,\n 'vandiver': 5.521460917862246,\n 'traditional': 2.1541650878757723,\n 'visit': 1.8578992717326002,\n 'chambers': 3.816712825623821,\n 'toward': 0.8393296907380268,\n 'likely': 1.5994875815809322,\n 'mention': 2.407945608651872,\n '$100': 3.912023005428146,\n 'million': 1.9241486572738007,\n 'issue': 1.8078888511579387,\n 'earlier': 1.5511690043101247,\n 'priority': 3.575550768806933,\n 'item': 3.2188758248682006,\n 'construction': 2.322787800311565,\n 'bonds': 3.3813947543659757,\n 'meanwhile': 2.659260036932778,\n 'learned': 1.748699979767608,\n 'very': 0.37396644104879334,\n 'near': 1.2729656758128876,\n 'being': 0.40346710544549136,\n 'ready': 1.5050778971098577,\n '$30': 5.521460917862246,\n 'worth': 1.9105430052180221,\n 'reconstruction': 4.017383521085972,\n 'go': 0.5978370007556204,\n 'courts': 3.036554268074246,\n 'friendly': 2.4304184645039304,\n 'test': 1.9519282213808764,\n 'validity': 3.575550768806933,\n 'then': 0.2033409240180301,\n 'sales': 2.631089159966082,\n 'begin': 1.9661128563728327,\n 'contracts': 3.324236340526027,\n 'let': 0.8867319296326106,\n 'repair': 3.324236340526027,\n 'most': 0.23319388716771114,\n 'heavily': 2.207274913189721,\n 'traveled': 3.2188758248682006,\n 'highways': 3.816712825623821,\n 'source': 1.9661128563728327,\n '$3': 5.115995809754082,\n '$4': 4.605170185988092,\n 'roads': 2.9187712324178627,\n 'authority': 2.137070654516472,\n 'road': 1.783791299578878,\n 'revolving': 4.605170185988092,\n 'fund': 2.7488721956224653,\n 'apparently': 1.6094379124341003,\n 'intends': 4.422848629194137,\n 'issued': 2.5770219386958058,\n 'every': 0.6014799920341215,\n 'old': 0.6655320135269719,\n 'ones': 1.7147984280919266,\n 'paid': 1.7602608021686839,\n 'off': 0.6236211179113351,\n 'authorities': 2.9565115604007097,\n 'opened': 1.6820086052689358,\n '1958': 2.4304184645039304,\n 'battle': 2.1541650878757723,\n 'against': 0.6236211179113351,\n 'issuance': 4.268697949366879,\n '$50': 4.268697949366879,\n 'marvin': 4.605170185988092,\n 'told': 0.9942522733438669,\n 'constitution': 3.270169119255751,\n 'consulted': 3.506557897319982,\n 'yet': 0.7298111649315369,\n 'about': 0.16016875215282136,\n 'plans': 1.8451602459551701,\n 'schley': 6.214608098422191,\n 'rep.': 4.8283137373023015,\n 'd.': 2.385966701933097,\n 'offer': 1.9519282213808764,\n 'resolution': 3.270169119255751,\n 'house': 0.9416085398584451,\n 'rescind': 6.214608098422191,\n \"body's\": 5.521460917862246,\n 'action': 1.258781040820931,\n 'itself': 1.0729445419195318,\n '$10': 4.268697949366879,\n 'day': 0.5481814103097596,\n 'increase': 1.6607312068216509,\n 'expense': 2.4304184645039304,\n 'allowances': 4.268697949366879,\n 'sunday': 2.2633643798407643,\n 'research': 1.9379419794061366,\n 'done': 0.9213032736976995,\n 'quickie': 5.521460917862246,\n 'can': 0.2206466711156226,\n 'repealed': 5.115995809754082,\n 'outright': 4.017383521085972,\n 'notice': 2.302585092994046,\n 'given': 0.7985076962177716,\n 'reconsideration': 4.8283137373023015,\n 'sought': 2.385966701933097,\n 'while': 0.4185503476568199,\n 'emphasizing': 4.8283137373023015,\n 'technical': 2.0874737133771,\n 'details': 2.322787800311565,\n 'fully': 1.9805015938249324,\n 'worked': 1.6296406197516198,\n 'seek': 2.1715568305876416,\n 'set': 0.7592869830644903,\n 'aside': 2.120263536200091,\n 'privilege': 3.506557897319982,\n '87-31': 6.214608098422191,\n 'similar': 1.487220279709851,\n 'passed': 1.5994875815809322,\n '29-5': 6.214608098422191,\n 'word': 1.1841701770297564,\n 'offered': 1.9805015938249324,\n 'pointed': 2.0402208285265546,\n 'last': 0.5242486440981314,\n 'november': 2.4769384801388235,\n 'rejected': 2.8134107167600364,\n 'constitutional': 3.324236340526027,\n 'amendment': 3.506557897319982,\n 'allow': 2.120263536200091,\n 'pay': 1.5896352851379207,\n 'raises': 3.506557897319982,\n 'sessions': 3.324236340526027,\n 'veteran': 3.079113882493042,\n 'jackson': 3.2188758248682006,\n 'legislator': 5.115995809754082,\n 'aid': 1.9805015938249324,\n 'education': 1.9805015938249324,\n 'something': 0.8119307165499123,\n 'consistently': 3.324236340526027,\n 'opposed': 2.5770219386958058,\n 'past': 0.9888614247089904,\n 'mac': 6.214608098422191,\n 'barber': 4.605170185988092,\n 'commerce': 2.8134107167600364,\n 'asking': 2.1892564076870427,\n 'endorse': 4.422848629194137,\n 'increased': 1.6820086052689358,\n 'support': 1.5324768712979722,\n 'provided': 1.783791299578878,\n 'expended': 3.816712825623821,\n '13th': 4.8283137373023015,\n 'members': 1.3167682984712803,\n 'congressional': 3.3813947543659757,\n 'delegation': 3.912023005428146,\n 'washington': 1.725971728690052,\n 'like': 0.3229638865964207,\n 'see': 0.39749693845898754,\n 'congressmen': 4.268697949366879,\n 'specifically': 2.659260036932778,\n 'him': 0.3566749439387324,\n 'tossed': 3.079113882493042,\n 'hopper': 5.521460917862246,\n 'formally': 3.324236340526027,\n 'read': 1.4784096500276964,\n 'event': 2.0874737133771,\n 'congress': 2.1541650878757723,\n 'does': 0.6931471805599453,\n 'board': 1.7957674906255938,\n 'directed': 2.282782465697866,\n 'give': 0.7011793522572095,\n 'teacher': 2.5770219386958058,\n 'colquitt': 6.214608098422191,\n 'long': 0.391562202939173,\n 'hot': 1.870802676568508,\n 'controversy': 3.123565645063876,\n 'miller': 3.649658740960655,\n 'school': 1.2729656758128876,\n 'superintendent': 4.017383521085972,\n 'policeman': 3.816712825623821,\n 'put': 0.6891551592904078,\n 'coolest': 5.521460917862246,\n 'i': 0.40646560844174784,\n 'ever': 0.8770700187208738,\n 'saw': 0.9996723408132061,\n 'harry': 3.3813947543659757,\n 'davis': 3.649658740960655,\n 'agriculture': 3.270169119255751,\n 'defeated': 3.649658740960655,\n 'felix': 4.422848629194137,\n 'bush': 4.422848629194137,\n 'principal': 2.1037342342488805,\n 'democratic': 2.5770219386958058,\n '1,119': 6.214608098422191,\n 'votes': 3.506557897319982,\n \"saturday's\": 5.115995809754082,\n 'got': 0.9623346703755619,\n '402': 6.214608098422191,\n 'ordinary': 2.302585092994046,\n 'carey': 5.115995809754082,\n 'armed': 2.6882475738060303,\n 'pistol': 3.4420193761824107,\n 'stood': 1.4610179073158271,\n 'polls': 4.135166556742356,\n 'insure': 3.079113882493042,\n 'order': 0.906340401020987,\n 'calmest': 6.214608098422191,\n 'tom': 3.324236340526027,\n 'just': 0.44316697529217586,\n 'church': 1.820158943749753,\n \"didn't\": 1.2378743560016172,\n 'smell': 2.995732273553991,\n 'drop': 2.282782465697866,\n 'liquor': 2.8134107167600364,\n 'bit': 1.9241486572738007,\n 'trouble': 1.639897119918809,\n 'leading': 2.120263536200091,\n 'quiet': 2.137070654516472,\n 'marked': 2.1037342342488805,\n 'anonymous': 3.816712825623821,\n 'midnight': 3.270169119255751,\n 'phone': 2.8134107167600364,\n 'calls': 2.24431618487007,\n 'veiled': 4.605170185988092,\n 'threats': 3.649658740960655,\n 'violence': 2.8134107167600364,\n 'former': 1.7147984280919266,\n 'george': 1.995100393246085,\n 'p.': 2.6036901857779675,\n 'callan': 6.214608098422191,\n 'shot': 2.24431618487007,\n 'himself': 0.7092765624898291,\n 'death': 1.3318061758358208,\n 'march': 1.995100393246085,\n '18': 2.501036031717884,\n 'days': 0.8393296907380268,\n 'post': 2.282782465697866,\n 'dispute': 3.506557897319982,\n 'during': 0.6348782724359695,\n 'reportedly': 4.017383521085972,\n 'telephone': 2.385966701933097,\n 'too': 0.39749693845898754,\n 'subjected': 3.324236340526027,\n 'soon': 1.2310014767138553,\n 'scheduled': 2.7488721956224653,\n 'local': 1.4784096500276964,\n 'feared': 3.649658740960655,\n 'carry': 1.8971199848858813,\n 'gun': 2.6882475738060303,\n 'promised': 2.5257286443082556,\n 'sheriff': 4.017383521085972,\n 'tabb': 6.214608098422191,\n 'good': 0.44941699563734716,\n 'promise': 2.659260036932778,\n 'everything': 1.410587053688935,\n 'went': 0.8119307165499123,\n 'real': 1.171182981502945,\n 'smooth': 2.882403588246988,\n \"wasn't\": 1.7957674906255938,\n 'austin': 3.816712825623821,\n 'approval': 2.4769384801388235,\n 'price': 2.4304184645039304,\n \"daniel's\": 6.214608098422191,\n 'abandoned': 3.036554268074246,\n 'seemed': 0.9888614247089904,\n 'certain': 0.9781661355922425,\n 'thursday': 3.079113882493042,\n 'adamant': 4.605170185988092,\n 'protests': 3.912023005428146,\n 'bankers': 4.135166556742356,\n 'daniel': 4.017383521085972,\n 'personally': 2.7488721956224653,\n 'led': 1.5417792639602856,\n 'fight': 1.9105430052180221,\n 'measure': 2.1037342342488805,\n 'watered': 4.268697949366879,\n 'down': 0.5208759596194922,\n 'considerably': 2.5257286443082556,\n 'rejection': 3.912023005428146,\n 'legislatures': 5.521460917862246,\n 'hearing': 2.501036031717884,\n 'revenue': 3.2188758248682006,\n 'taxation': 4.422848629194137,\n 'rules': 2.5510464522925456,\n 'automatically': 2.9187712324178627,\n 'subcommittee': 4.8283137373023015,\n 'week': 1.3019532126861397,\n 'questions': 1.6713133161521878,\n 'taunted': 5.521460917862246,\n 'appearing': 3.4420193761824107,\n 'witnesses': 3.4420193761824107,\n 'left': 0.6931471805599453,\n 'little': 0.4338645826298623,\n 'doubt': 1.6928195213731514,\n 'recommend': 3.123565645063876,\n 'passage': 2.501036031717884,\n 'termed': 3.506557897319982,\n 'extremely': 2.501036031717884,\n 'conservative': 2.995732273553991,\n 'estimate': 2.9187712324178627,\n 'produce': 2.0714733720306593,\n '17': 2.8473122684357177,\n 'dollars': 2.1541650878757723,\n 'help': 0.9996723408132061,\n 'erase': 6.214608098422191,\n 'anticipated': 3.170085660698769,\n 'deficit': 4.135166556742356,\n '63': 4.605170185988092,\n 'current': 1.9241486572738007,\n 'fiscal': 2.9565115604007097,\n '31': 3.079113882493042,\n 'merely': 1.6094379124341003,\n 'means': 1.0906441190189329,\n 'enforcing': 4.8283137373023015,\n 'escheat': 6.214608098422191,\n 'books': 2.0249533563957662,\n 'republic': 2.882403588246988,\n 'permits': 3.123565645063876,\n 'over': 0.19358474907266526,\n 'bank': 2.631089159966082,\n 'accounts': 2.8134107167600364,\n 'stocks': 3.816712825623821,\n 'personal': 1.5324768712979722,\n 'persons': 1.8838747581358606,\n 'missing': 2.882403588246988,\n 'seven': 1.8971199848858813,\n 'bill': 1.9519282213808764,\n 'drafted': 4.605170185988092,\n 'banks': 3.324236340526027,\n 'insurance': 3.3813947543659757,\n 'firms': 3.079113882493042,\n 'pipeline': 5.115995809754082,\n 'companies': 2.659260036932778,\n 'corporations': 3.912023005428146,\n 'report': 1.8078888511579387,\n 'treasurer': 3.912023005428146,\n 'cannot': 1.2039728043259361,\n 'enforced': 3.2188758248682006,\n 'now': 0.23825718912425795,\n 'because': 0.37396644104879334,\n 'almost': 0.6694306539426292,\n 'impossible': 1.9241486572738007,\n 'locate': 3.7297014486341915,\n 'declared': 2.2633643798407643,\n 'dewey': 5.115995809754082,\n 'lawrence': 3.079113882493042,\n 'tyler': 5.521460917862246,\n 'lawyer': 2.8134107167600364,\n 'representing': 2.995732273553991,\n 'sounded': 2.8134107167600364,\n 'opposition': 2.7488721956224653,\n 'keynote': 5.115995809754082,\n 'violate': 4.268697949366879,\n 'their': 0.07257069283483537,\n 'contractual': 5.115995809754082,\n 'obligations': 3.3813947543659757,\n 'depositors': 6.214608098422191,\n 'undermine': 4.135166556742356,\n 'confidence': 2.407945608651872,\n 'customers': 3.079113882493042,\n 'if': 0.0987159729391578,\n 'you': 0.5208759596194922,\n 'destroy': 2.8134107167600364,\n 'economy': 2.322787800311565,\n 'circulation': 3.506557897319982,\n 'millions': 2.631089159966082,\n 'charles': 2.1715568305876416,\n 'hughes': 4.268697949366879,\n 'sherman': 4.135166556742356,\n 'sponsor': 3.575550768806933,\n 'enact': 4.422848629194137,\n 'amount': 1.6194882482876019,\n 'gift': 2.8134107167600364,\n \"taxpayers'\": 5.521460917862246,\n 'pockets': 3.4420193761824107,\n 'contention': 4.268697949366879,\n 'denied': 2.8134107167600364,\n 'several': 0.7592869830644903,\n 'including': 1.3625778345025745,\n 'scott': 3.7297014486341915,\n 'hudson': 3.4420193761824107,\n 'gaynor': 6.214608098422191,\n 'jones': 3.036554268074246,\n 'houston': 3.912023005428146,\n 'brady': 6.214608098422191,\n 'harlingen': 6.214608098422191,\n 'howard': 3.3813947543659757,\n 'cox': 4.8283137373023015,\n 'argued': 2.9565115604007097,\n 'probably': 1.0051219455807707,\n 'unconstitutional': 5.521460917862246,\n 'impair': 4.8283137373023015,\n 'complained': 3.170085660698769,\n 'enough': 0.6694306539426292,\n 'introduced': 2.385966701933097,\n 'senators': 4.605170185988092,\n 'unanimously': 3.912023005428146,\n 'parkhouse': 6.214608098422191,\n 'dallas': 3.912023005428146,\n 'authorizing': 4.8283137373023015,\n 'schools': 2.137070654516472,\n 'deaf': 4.268697949366879,\n 'designed': 1.870802676568508,\n 'special': 1.171182981502945,\n 'schooling': 4.605170185988092,\n 'students': 2.0874737133771,\n 'scholastic': 4.268697949366879,\n 'reduced': 2.0874737133771,\n 'debate': 3.270169119255751,\n 'authorize': 4.605170185988092,\n 'agency': 2.659260036932778,\n 'establish': 2.4534079827286295,\n 'county-wide': 5.521460917862246,\n '300,000': 4.422848629194137,\n 'population': 2.24431618487007,\n 'require': 2.0249533563957662,\n 'children': 1.3318061758358208,\n 'between': 0.4588658848352796,\n '6': 1.870802676568508,\n 'attend': 2.5257286443082556,\n 'permitting': 4.017383521085972,\n 'older': 2.0099154790312257,\n 'residential': 3.324236340526027,\n 'here': 0.46521511251393843,\n 'budget': 2.9565115604007097,\n 'harris': 3.3813947543659757,\n 'bexar': 6.214608098422191,\n 'tarrant': 6.214608098422191,\n 'el': 4.135166556742356,\n 'paso': 4.8283137373023015,\n '$451,500': 6.214608098422191,\n 'savings': 3.270169119255751,\n '$157,460': 6.214608098422191,\n 'yearly': 3.7297014486341915,\n \"year's\": 2.7181005369557116,\n 'capital': 2.5257286443082556,\n 'outlay': 5.521460917862246,\n '$88,000': 6.214608098422191,\n 'absorbed': 3.3813947543659757,\n 'tea': 3.170085660698769,\n 'estimated': 2.4769384801388235,\n '182': 6.214608098422191,\n 'scholastics': 6.214608098422191,\n 'saving': 3.2188758248682006,\n 'coming': 1.3318061758358208,\n 'live': 1.410587053688935,\n 'get': 0.5942072327050417,\n 'hear': 1.5141277326297755,\n 'horse': 2.407945608651872,\n 'parimutuels': 6.214608098422191,\n 'reps.': 5.521460917862246,\n 'v.': 3.324236340526027,\n 'red': 1.5994875815809322,\n 'joe': 3.079113882493042,\n 'ratcliff': 6.214608098422191,\n 'still': 0.36240561864771736,\n 'expects': 3.170085660698769,\n 'tell': 1.1776554960085626,\n 'folks': 3.649658740960655,\n ...}"
     },
     "execution_count": 7,
     "metadata": {},
     "output_type": "execute_result"
    }
   ],
   "source": [
    "idf = calculate_brown_idf()\n",
    "idf"
   ],
   "metadata": {
    "collapsed": false,
    "ExecuteTime": {
     "end_time": "2025-02-24T09:17:50.046300700Z",
     "start_time": "2025-02-24T09:17:41.908528500Z"
    }
   },
   "execution_count": 7
  },
  {
   "cell_type": "code",
   "outputs": [
    {
     "ename": "ValueError",
     "evalue": "'the big brown fox jumps over' is not a valid TerrierTokeniser",
     "output_type": "error",
     "traceback": [
      "\u001B[1;31m---------------------------------------------------------------------------\u001B[0m",
      "\u001B[1;31mValueError\u001B[0m                                Traceback (most recent call last)",
      "Cell \u001B[1;32mIn[71], line 1\u001B[0m\n\u001B[1;32m----> 1\u001B[0m \u001B[43mTerrierTokeniser\u001B[49m\u001B[43m(\u001B[49m\u001B[38;5;124;43m\"\u001B[39;49m\u001B[38;5;124;43mthe big brown fox jumps over\u001B[39;49m\u001B[38;5;124;43m\"\u001B[39;49m\u001B[43m)\u001B[49m\n",
      "File \u001B[1;32m~\\AppData\\Local\\Programs\\Python\\Python312\\Lib\\enum.py:744\u001B[0m, in \u001B[0;36mEnumType.__call__\u001B[1;34m(cls, value, names, module, qualname, type, start, boundary, *values)\u001B[0m\n\u001B[0;32m    742\u001B[0m     \u001B[38;5;28;01mif\u001B[39;00m names:\n\u001B[0;32m    743\u001B[0m         value \u001B[38;5;241m=\u001B[39m (value, names) \u001B[38;5;241m+\u001B[39m values\n\u001B[1;32m--> 744\u001B[0m     \u001B[38;5;28;01mreturn\u001B[39;00m \u001B[38;5;28;43mcls\u001B[39;49m\u001B[38;5;241;43m.\u001B[39;49m\u001B[38;5;21;43m__new__\u001B[39;49m\u001B[43m(\u001B[49m\u001B[38;5;28;43mcls\u001B[39;49m\u001B[43m,\u001B[49m\u001B[43m \u001B[49m\u001B[43mvalue\u001B[49m\u001B[43m)\u001B[49m\n\u001B[0;32m    745\u001B[0m \u001B[38;5;66;03m# otherwise, functional API: we're creating a new Enum type\u001B[39;00m\n\u001B[0;32m    746\u001B[0m \u001B[38;5;28;01mif\u001B[39;00m names \u001B[38;5;129;01mis\u001B[39;00m \u001B[38;5;28;01mNone\u001B[39;00m \u001B[38;5;129;01mand\u001B[39;00m \u001B[38;5;28mtype\u001B[39m \u001B[38;5;129;01mis\u001B[39;00m \u001B[38;5;28;01mNone\u001B[39;00m:\n\u001B[0;32m    747\u001B[0m     \u001B[38;5;66;03m# no body? no data-type? possibly wrong usage\u001B[39;00m\n",
      "File \u001B[1;32m~\\AppData\\Local\\Programs\\Python\\Python312\\Lib\\enum.py:1158\u001B[0m, in \u001B[0;36mEnum.__new__\u001B[1;34m(cls, value)\u001B[0m\n\u001B[0;32m   1156\u001B[0m ve_exc \u001B[38;5;241m=\u001B[39m \u001B[38;5;167;01mValueError\u001B[39;00m(\u001B[38;5;124m\"\u001B[39m\u001B[38;5;132;01m%r\u001B[39;00m\u001B[38;5;124m is not a valid \u001B[39m\u001B[38;5;132;01m%s\u001B[39;00m\u001B[38;5;124m\"\u001B[39m \u001B[38;5;241m%\u001B[39m (value, \u001B[38;5;28mcls\u001B[39m\u001B[38;5;241m.\u001B[39m\u001B[38;5;18m__qualname__\u001B[39m))\n\u001B[0;32m   1157\u001B[0m \u001B[38;5;28;01mif\u001B[39;00m result \u001B[38;5;129;01mis\u001B[39;00m \u001B[38;5;28;01mNone\u001B[39;00m \u001B[38;5;129;01mand\u001B[39;00m exc \u001B[38;5;129;01mis\u001B[39;00m \u001B[38;5;28;01mNone\u001B[39;00m:\n\u001B[1;32m-> 1158\u001B[0m     \u001B[38;5;28;01mraise\u001B[39;00m ve_exc\n\u001B[0;32m   1159\u001B[0m \u001B[38;5;28;01melif\u001B[39;00m exc \u001B[38;5;129;01mis\u001B[39;00m \u001B[38;5;28;01mNone\u001B[39;00m:\n\u001B[0;32m   1160\u001B[0m     exc \u001B[38;5;241m=\u001B[39m \u001B[38;5;167;01mTypeError\u001B[39;00m(\n\u001B[0;32m   1161\u001B[0m             \u001B[38;5;124m'\u001B[39m\u001B[38;5;124merror in \u001B[39m\u001B[38;5;132;01m%s\u001B[39;00m\u001B[38;5;124m._missing_: returned \u001B[39m\u001B[38;5;132;01m%r\u001B[39;00m\u001B[38;5;124m instead of None or a valid member\u001B[39m\u001B[38;5;124m'\u001B[39m\n\u001B[0;32m   1162\u001B[0m             \u001B[38;5;241m%\u001B[39m (\u001B[38;5;28mcls\u001B[39m\u001B[38;5;241m.\u001B[39m\u001B[38;5;18m__name__\u001B[39m, result)\n\u001B[0;32m   1163\u001B[0m             )\n",
      "\u001B[1;31mValueError\u001B[0m: 'the big brown fox jumps over' is not a valid TerrierTokeniser"
     ]
    }
   ],
   "source": [
    "TerrierTokeniser(\"the big brown fox jumps over\")"
   ],
   "metadata": {
    "collapsed": false,
    "ExecuteTime": {
     "end_time": "2025-02-24T13:18:28.989874700Z",
     "start_time": "2025-02-24T13:18:28.826457500Z"
    }
   },
   "execution_count": 71
  },
  {
   "cell_type": "code",
   "outputs": [
    {
     "name": "stderr",
     "output_type": "stream",
     "text": [
      "C:\\Users\\skakr\\AppData\\Local\\Temp\\ipykernel_20724\\1714161392.py:3: DeprecationWarning: Call to deprecated function (or staticmethod) autoclass. (use pt.java.autoclass(...) instead) -- Deprecated since version 0.11.0.\n",
      "  tokenizer = pt.autoclass(\"org.terrier.indexing.tokenisation.Tokeniser\").getTokeniser()\n"
     ]
    }
   ],
   "source": [
    "import pyterrier as pt\n",
    "# %%\n",
    "tokenizer = pt.autoclass(\"org.terrier.indexing.tokenisation.Tokeniser\").getTokeniser()\n",
    "\n",
    "def strip_markup(text):\n",
    "    return \" \".join(tokenizer.getTokens(text))\n"
   ],
   "metadata": {
    "collapsed": false,
    "ExecuteTime": {
     "end_time": "2025-02-24T14:27:13.821953400Z",
     "start_time": "2025-02-24T14:27:13.806867400Z"
    }
   },
   "execution_count": 107
  },
  {
   "cell_type": "code",
   "outputs": [
    {
     "ename": "JavaException",
     "evalue": "JVM exception occurred: Failed to process qid 1 'library consider heart university people website for your consideration:' -- Encountered \"\" at line 1, column 72.\r\n org.terrier.querying.parser.QueryParserException",
     "output_type": "error",
     "traceback": [
      "\u001B[1;31m---------------------------------------------------------------------------\u001B[0m",
      "\u001B[1;31mJavaException\u001B[0m                             Traceback (most recent call last)",
      "Cell \u001B[1;32mIn[108], line 92\u001B[0m\n\u001B[0;32m     89\u001B[0m     \u001B[38;5;28;01mreturn\u001B[39;00m strip_markup(expanded_query)\n\u001B[0;32m     91\u001B[0m original_query \u001B[38;5;241m=\u001B[39m \u001B[38;5;124m\"\u001B[39m\u001B[38;5;124mlibrary consider heart university people website for your consideration:\u001B[39m\u001B[38;5;124m\"\u001B[39m \n\u001B[1;32m---> 92\u001B[0m expanded_query \u001B[38;5;241m=\u001B[39m \u001B[43mrewrite_query\u001B[49m\u001B[43m(\u001B[49m\u001B[43moriginal_query\u001B[49m\u001B[43m)\u001B[49m\n\u001B[0;32m     93\u001B[0m \u001B[38;5;28mprint\u001B[39m(\u001B[38;5;124mf\u001B[39m\u001B[38;5;124m\"\u001B[39m\u001B[38;5;124mOriginal query: \u001B[39m\u001B[38;5;132;01m{\u001B[39;00moriginal_query\u001B[38;5;132;01m}\u001B[39;00m\u001B[38;5;124m\"\u001B[39m)\n\u001B[0;32m     94\u001B[0m \u001B[38;5;28mprint\u001B[39m(\u001B[38;5;124mf\u001B[39m\u001B[38;5;124m\"\u001B[39m\u001B[38;5;124mExpanded query: \u001B[39m\u001B[38;5;132;01m{\u001B[39;00mexpanded_query\u001B[38;5;132;01m}\u001B[39;00m\u001B[38;5;124m\"\u001B[39m)\n",
      "Cell \u001B[1;32mIn[108], line 46\u001B[0m, in \u001B[0;36mrewrite_query\u001B[1;34m(query)\u001B[0m\n\u001B[0;32m     44\u001B[0m results \u001B[38;5;241m=\u001B[39m search(normalized_query)\n\u001B[0;32m     45\u001B[0m \u001B[38;5;28;01mif\u001B[39;00m \u001B[38;5;28mlen\u001B[39m(results) \u001B[38;5;241m==\u001B[39m \u001B[38;5;241m0\u001B[39m:\n\u001B[1;32m---> 46\u001B[0m     results \u001B[38;5;241m=\u001B[39m \u001B[43msearch\u001B[49m\u001B[43m(\u001B[49m\u001B[43mquery\u001B[49m\u001B[43m)\u001B[49m\n\u001B[0;32m     47\u001B[0m     \u001B[38;5;28;01mif\u001B[39;00m \u001B[38;5;28mlen\u001B[39m(results) \u001B[38;5;241m==\u001B[39m \u001B[38;5;241m0\u001B[39m:\n\u001B[0;32m     48\u001B[0m         \u001B[38;5;28;01mreturn\u001B[39;00m strip_markup(query)\n",
      "File \u001B[1;32m~\\Documents\\Programming\\ms-information-retrieval\\scaffolding\\util.py:34\u001B[0m, in \u001B[0;36msearch\u001B[1;34m(query)\u001B[0m\n\u001B[0;32m     33\u001B[0m \u001B[38;5;28;01mdef\u001B[39;00m\u001B[38;5;250m \u001B[39m\u001B[38;5;21msearch\u001B[39m(query: \u001B[38;5;28mstr\u001B[39m) \u001B[38;5;241m-\u001B[39m\u001B[38;5;241m>\u001B[39m pd\u001B[38;5;241m.\u001B[39mDataFrame:\n\u001B[1;32m---> 34\u001B[0m     \u001B[38;5;28;01mreturn\u001B[39;00m \u001B[43m(\u001B[49m\u001B[43mBM25\u001B[49m\u001B[43m \u001B[49m\u001B[38;5;241;43m%\u001B[39;49m\u001B[43m \u001B[49m\u001B[38;5;241;43m10\u001B[39;49m\u001B[43m)\u001B[49m\u001B[38;5;241;43m.\u001B[39;49m\u001B[43msearch\u001B[49m\u001B[43m(\u001B[49m\u001B[43mquery\u001B[49m\u001B[43m)\u001B[49m\n",
      "File \u001B[1;32m~\\Documents\\Programming\\ms-information-retrieval\\.venv\\Lib\\site-packages\\pyterrier\\transformer.py:230\u001B[0m, in \u001B[0;36mTransformer.search\u001B[1;34m(self, query, qid, sort)\u001B[0m\n\u001B[0;32m    228\u001B[0m \u001B[38;5;28;01mimport\u001B[39;00m\u001B[38;5;250m \u001B[39m\u001B[38;5;21;01mpandas\u001B[39;00m\u001B[38;5;250m \u001B[39m\u001B[38;5;28;01mas\u001B[39;00m\u001B[38;5;250m \u001B[39m\u001B[38;5;21;01mpd\u001B[39;00m\n\u001B[0;32m    229\u001B[0m queryDf \u001B[38;5;241m=\u001B[39m pd\u001B[38;5;241m.\u001B[39mDataFrame([[qid, query]], columns\u001B[38;5;241m=\u001B[39m[\u001B[38;5;124m\"\u001B[39m\u001B[38;5;124mqid\u001B[39m\u001B[38;5;124m\"\u001B[39m, \u001B[38;5;124m\"\u001B[39m\u001B[38;5;124mquery\u001B[39m\u001B[38;5;124m\"\u001B[39m])\n\u001B[1;32m--> 230\u001B[0m rtr \u001B[38;5;241m=\u001B[39m \u001B[38;5;28;43mself\u001B[39;49m\u001B[38;5;241;43m.\u001B[39;49m\u001B[43mtransform\u001B[49m\u001B[43m(\u001B[49m\u001B[43mqueryDf\u001B[49m\u001B[43m)\u001B[49m\n\u001B[0;32m    231\u001B[0m \u001B[38;5;28;01mif\u001B[39;00m \u001B[38;5;124m\"\u001B[39m\u001B[38;5;124mqid\u001B[39m\u001B[38;5;124m\"\u001B[39m \u001B[38;5;129;01min\u001B[39;00m rtr\u001B[38;5;241m.\u001B[39mcolumns \u001B[38;5;129;01mand\u001B[39;00m \u001B[38;5;124m\"\u001B[39m\u001B[38;5;124mrank\u001B[39m\u001B[38;5;124m\"\u001B[39m \u001B[38;5;129;01min\u001B[39;00m rtr\u001B[38;5;241m.\u001B[39mcolumns:\n\u001B[0;32m    232\u001B[0m     rtr \u001B[38;5;241m=\u001B[39m rtr\u001B[38;5;241m.\u001B[39msort_values([\u001B[38;5;124m\"\u001B[39m\u001B[38;5;124mqid\u001B[39m\u001B[38;5;124m\"\u001B[39m, \u001B[38;5;124m\"\u001B[39m\u001B[38;5;124mrank\u001B[39m\u001B[38;5;124m\"\u001B[39m], ascending\u001B[38;5;241m=\u001B[39m[\u001B[38;5;28;01mTrue\u001B[39;00m,\u001B[38;5;28;01mTrue\u001B[39;00m])\n",
      "File \u001B[1;32m~\\Documents\\Programming\\ms-information-retrieval\\.venv\\Lib\\site-packages\\pyterrier\\_ops.py:369\u001B[0m, in \u001B[0;36mCompose.transform\u001B[1;34m(self, inp)\u001B[0m\n\u001B[0;32m    367\u001B[0m out \u001B[38;5;241m=\u001B[39m inp\n\u001B[0;32m    368\u001B[0m \u001B[38;5;28;01mfor\u001B[39;00m m \u001B[38;5;129;01min\u001B[39;00m \u001B[38;5;28mself\u001B[39m\u001B[38;5;241m.\u001B[39m_transformers:\n\u001B[1;32m--> 369\u001B[0m     out \u001B[38;5;241m=\u001B[39m \u001B[43mm\u001B[49m\u001B[38;5;241;43m.\u001B[39;49m\u001B[43mtransform\u001B[49m\u001B[43m(\u001B[49m\u001B[43mout\u001B[49m\u001B[43m)\u001B[49m\n\u001B[0;32m    370\u001B[0m \u001B[38;5;28;01mreturn\u001B[39;00m out\n",
      "File \u001B[1;32m~\\Documents\\Programming\\ms-information-retrieval\\.venv\\Lib\\site-packages\\pyterrier\\utils.py:207\u001B[0m, in \u001B[0;36mpre_invocation_decorator.<locals>._decorator_wrapper.<locals>._wrapper\u001B[1;34m(*args, **kwargs)\u001B[0m\n\u001B[0;32m    204\u001B[0m \u001B[38;5;129m@wraps\u001B[39m(fn)\n\u001B[0;32m    205\u001B[0m \u001B[38;5;28;01mdef\u001B[39;00m\u001B[38;5;250m \u001B[39m\u001B[38;5;21m_wrapper\u001B[39m(\u001B[38;5;241m*\u001B[39margs, \u001B[38;5;241m*\u001B[39m\u001B[38;5;241m*\u001B[39mkwargs):\n\u001B[0;32m    206\u001B[0m     decorator(fn)\n\u001B[1;32m--> 207\u001B[0m     \u001B[38;5;28;01mreturn\u001B[39;00m \u001B[43mfn\u001B[49m\u001B[43m(\u001B[49m\u001B[38;5;241;43m*\u001B[39;49m\u001B[43margs\u001B[49m\u001B[43m,\u001B[49m\u001B[43m \u001B[49m\u001B[38;5;241;43m*\u001B[39;49m\u001B[38;5;241;43m*\u001B[39;49m\u001B[43mkwargs\u001B[49m\u001B[43m)\u001B[49m\n",
      "File \u001B[1;32m~\\Documents\\Programming\\ms-information-retrieval\\.venv\\Lib\\site-packages\\pyterrier\\terrier\\retriever.py:428\u001B[0m, in \u001B[0;36mRetriever.transform\u001B[1;34m(self, queries)\u001B[0m\n\u001B[0;32m    426\u001B[0m         \u001B[38;5;28miter\u001B[39m \u001B[38;5;241m=\u001B[39m pt\u001B[38;5;241m.\u001B[39mtqdm(\u001B[38;5;28miter\u001B[39m, desc\u001B[38;5;241m=\u001B[39m\u001B[38;5;28mstr\u001B[39m(\u001B[38;5;28mself\u001B[39m), total\u001B[38;5;241m=\u001B[39mqueries\u001B[38;5;241m.\u001B[39mshape[\u001B[38;5;241m0\u001B[39m], unit\u001B[38;5;241m=\u001B[39m\u001B[38;5;124m\"\u001B[39m\u001B[38;5;124mq\u001B[39m\u001B[38;5;124m\"\u001B[39m)\n\u001B[0;32m    427\u001B[0m     \u001B[38;5;28;01mfor\u001B[39;00m row \u001B[38;5;129;01min\u001B[39;00m \u001B[38;5;28miter\u001B[39m:\n\u001B[1;32m--> 428\u001B[0m         res \u001B[38;5;241m=\u001B[39m \u001B[38;5;28;43mself\u001B[39;49m\u001B[38;5;241;43m.\u001B[39;49m\u001B[43m_retrieve_one\u001B[49m\u001B[43m(\u001B[49m\u001B[43mrow\u001B[49m\u001B[43m,\u001B[49m\u001B[43m \u001B[49m\u001B[43minput_results\u001B[49m\u001B[43m,\u001B[49m\u001B[43m \u001B[49m\u001B[43mdocno_provided\u001B[49m\u001B[38;5;241;43m=\u001B[39;49m\u001B[43mdocno_provided\u001B[49m\u001B[43m,\u001B[49m\u001B[43m \u001B[49m\u001B[43mdocid_provided\u001B[49m\u001B[38;5;241;43m=\u001B[39;49m\u001B[43mdocid_provided\u001B[49m\u001B[43m,\u001B[49m\u001B[43m \u001B[49m\u001B[43mscores_provided\u001B[49m\u001B[38;5;241;43m=\u001B[39;49m\u001B[43mscores_provided\u001B[49m\u001B[43m)\u001B[49m\n\u001B[0;32m    429\u001B[0m         results\u001B[38;5;241m.\u001B[39mextend(res)\n\u001B[0;32m    431\u001B[0m res_dt \u001B[38;5;241m=\u001B[39m pd\u001B[38;5;241m.\u001B[39mDataFrame(results, columns\u001B[38;5;241m=\u001B[39m[\u001B[38;5;124m'\u001B[39m\u001B[38;5;124mqid\u001B[39m\u001B[38;5;124m'\u001B[39m, \u001B[38;5;124m'\u001B[39m\u001B[38;5;124mdocid\u001B[39m\u001B[38;5;124m'\u001B[39m ] \u001B[38;5;241m+\u001B[39m \u001B[38;5;28mself\u001B[39m\u001B[38;5;241m.\u001B[39mmetadata \u001B[38;5;241m+\u001B[39m [\u001B[38;5;124m'\u001B[39m\u001B[38;5;124mrank\u001B[39m\u001B[38;5;124m'\u001B[39m, \u001B[38;5;124m'\u001B[39m\u001B[38;5;124mscore\u001B[39m\u001B[38;5;124m'\u001B[39m])\n",
      "File \u001B[1;32m~\\Documents\\Programming\\ms-information-retrieval\\.venv\\Lib\\site-packages\\pyterrier\\utils.py:207\u001B[0m, in \u001B[0;36mpre_invocation_decorator.<locals>._decorator_wrapper.<locals>._wrapper\u001B[1;34m(*args, **kwargs)\u001B[0m\n\u001B[0;32m    204\u001B[0m \u001B[38;5;129m@wraps\u001B[39m(fn)\n\u001B[0;32m    205\u001B[0m \u001B[38;5;28;01mdef\u001B[39;00m\u001B[38;5;250m \u001B[39m\u001B[38;5;21m_wrapper\u001B[39m(\u001B[38;5;241m*\u001B[39margs, \u001B[38;5;241m*\u001B[39m\u001B[38;5;241m*\u001B[39mkwargs):\n\u001B[0;32m    206\u001B[0m     decorator(fn)\n\u001B[1;32m--> 207\u001B[0m     \u001B[38;5;28;01mreturn\u001B[39;00m \u001B[43mfn\u001B[49m\u001B[43m(\u001B[49m\u001B[38;5;241;43m*\u001B[39;49m\u001B[43margs\u001B[49m\u001B[43m,\u001B[49m\u001B[43m \u001B[49m\u001B[38;5;241;43m*\u001B[39;49m\u001B[38;5;241;43m*\u001B[39;49m\u001B[43mkwargs\u001B[49m\u001B[43m)\u001B[49m\n",
      "File \u001B[1;32m~\\Documents\\Programming\\ms-information-retrieval\\.venv\\Lib\\site-packages\\pyterrier\\terrier\\retriever.py:339\u001B[0m, in \u001B[0;36mRetriever._retrieve_one\u001B[1;34m(self, row, input_results, docno_provided, docid_provided, scores_provided)\u001B[0m\n\u001B[0;32m    336\u001B[0m     srq\u001B[38;5;241m.\u001B[39msetControl(\u001B[38;5;124m\"\u001B[39m\u001B[38;5;124mmatching\u001B[39m\u001B[38;5;124m\"\u001B[39m, \u001B[38;5;124m\"\u001B[39m\u001B[38;5;124morg.terrier.matching.ScoringMatching\u001B[39m\u001B[38;5;124m\"\u001B[39m \u001B[38;5;241m+\u001B[39m \u001B[38;5;124m\"\u001B[39m\u001B[38;5;124m,\u001B[39m\u001B[38;5;124m\"\u001B[39m \u001B[38;5;241m+\u001B[39m srq\u001B[38;5;241m.\u001B[39mgetControl(\u001B[38;5;124m\"\u001B[39m\u001B[38;5;124mmatching\u001B[39m\u001B[38;5;124m\"\u001B[39m))\n\u001B[0;32m    338\u001B[0m \u001B[38;5;66;03m# now ask Terrier to run the request\u001B[39;00m\n\u001B[1;32m--> 339\u001B[0m \u001B[38;5;28;43mself\u001B[39;49m\u001B[38;5;241;43m.\u001B[39;49m\u001B[43mmanager\u001B[49m\u001B[38;5;241;43m.\u001B[39;49m\u001B[43mrunSearchRequest\u001B[49m\u001B[43m(\u001B[49m\u001B[43msrq\u001B[49m\u001B[43m)\u001B[49m\n\u001B[0;32m    340\u001B[0m result \u001B[38;5;241m=\u001B[39m srq\u001B[38;5;241m.\u001B[39mgetResults()\n\u001B[0;32m    342\u001B[0m \u001B[38;5;66;03m# check we got all of the expected metadata (if the resultset has a size at all)\u001B[39;00m\n",
      "File \u001B[1;32mjnius\\\\jnius_export_class.pxi:877\u001B[0m, in \u001B[0;36mjnius.JavaMethod.__call__\u001B[1;34m()\u001B[0m\n",
      "File \u001B[1;32mjnius\\\\jnius_export_class.pxi:971\u001B[0m, in \u001B[0;36mjnius.JavaMethod.call_method\u001B[1;34m()\u001B[0m\n",
      "File \u001B[1;32mjnius\\\\jnius_utils.pxi:79\u001B[0m, in \u001B[0;36mjnius.check_exception\u001B[1;34m()\u001B[0m\n",
      "\u001B[1;31mJavaException\u001B[0m: JVM exception occurred: Failed to process qid 1 'library consider heart university people website for your consideration:' -- Encountered \"\" at line 1, column 72.\r\n org.terrier.querying.parser.QueryParserException"
     ]
    }
   ],
   "source": [
    "\n",
    "from collections import Counter\n",
    "from autocorrect import Speller\n",
    "\n",
    "index = IndexFactory.of(INDEX)\n",
    "N = index.getCollectionStatistics().numberOfDocuments\n",
    "num_docs: int = 3\n",
    "num_terms: int = 5\n",
    "alpha: float = 0.7\n",
    "\n",
    "\n",
    "def rewrite_query(query: str) -> str:\n",
    "    \"\"\"\n",
    "    Rewrites a query using pseudo relevance feedback based on TF-IDF scores\n",
    "    of top retrieved documents.\n",
    "    \n",
    "    Parameters:\n",
    "    query (str): Original query\n",
    "    search (callable): Function that returns a DataFrame with search results\n",
    "    idf (Dict[str, float]): Dictionary of IDF scores for terms\n",
    "    num_docs (int): Number of top documents to use for feedback\n",
    "    num_terms (int): Number of terms to add to the query\n",
    "    alpha (float): Weight of original query terms (0-1)\n",
    "    \n",
    "    Returns:\n",
    "    str: Expanded query\n",
    "    \"\"\"\n",
    "\n",
    "    # Get initial search results\n",
    "    spell = Speller()\n",
    "    query = spell(query)\n",
    "    \n",
    "    normalized_query = query.lower() #.split()\n",
    "\n",
    "    # Remove punctuation and stop words\n",
    "    stop_words = set(stopwords.words('english'))\n",
    "    \n",
    "    normalized_query = ' ' .join([word for word in normalized_query\n",
    "              if word not in stop_words\n",
    "              and word not in string.punctuation])\n",
    "    \n",
    "    normalized_query = strip_markup(normalized_query)\n",
    "    \n",
    "\n",
    "    results = search(normalized_query)\n",
    "    if len(results) == 0:\n",
    "        results = search(query)\n",
    "        if len(results) == 0:\n",
    "            return strip_markup(query)\n",
    "\n",
    "    # Get top documents\n",
    "    top_docs = results.head(num_docs)\n",
    "\n",
    "    # Combine all document text and calculate term frequencies\n",
    "    doc_text = \" \".join(top_docs['text'].astype(str))  # Assuming 'text' column exists\n",
    "    term_freqs = Counter(doc_text.lower().split())\n",
    "\n",
    "    # Calculate TF-IDF scores for terms in top documents\n",
    "    tfidf_scores = {}\n",
    "    total_terms = sum(term_freqs.values())\n",
    "\n",
    "    for term, freq in term_freqs.items():\n",
    "        if term in stop_words:\n",
    "            tfidf_scores[term] = 1e-10\n",
    "        else:\n",
    "            try:\n",
    "                df = index.getLexicon()[term].getDocumentFrequency()\n",
    "                idf = math.log(N / df)\n",
    "                tf = freq / total_terms\n",
    "                tfidf_scores[term] = tf * idf\n",
    "            except KeyError:\n",
    "                tfidf_scores[term] = 1e-10\n",
    "\n",
    "    # Sort terms by TF-IDF score, excluding original query terms\n",
    "    expansion_candidates = {\n",
    "        term: score for term, score in tfidf_scores.items()\n",
    "        if term not in normalized_query\n",
    "    }\n",
    "\n",
    "    # Select top terms for expansion\n",
    "    expansion_terms = [x[0] for x in sorted(\n",
    "        expansion_candidates.items(),\n",
    "        key=lambda x: x[1],\n",
    "        reverse=True\n",
    "    )[:num_terms]]\n",
    "\n",
    "    # Combine into final query\n",
    "    expanded_query = normalized_query + \" \" + \" \".join(expansion_terms)\n",
    "\n",
    "    return strip_markup(expanded_query)\n",
    "\n",
    "original_query = \"library consider heart university people website for your consideration:\" \n",
    "expanded_query = rewrite_query(original_query)\n",
    "print(f\"Original query: {original_query}\")\n",
    "print(f\"Expanded query: {expanded_query}\")\n"
   ],
   "metadata": {
    "collapsed": false,
    "ExecuteTime": {
     "end_time": "2025-02-24T14:27:16.246908900Z",
     "start_time": "2025-02-24T14:27:15.938908700Z"
    }
   },
   "execution_count": 108
  },
  {
   "cell_type": "code",
   "execution_count": 88,
   "metadata": {
    "ExecuteTime": {
     "end_time": "2025-02-24T14:09:31.297134400Z",
     "start_time": "2025-02-24T14:09:31.284393900Z"
    }
   },
   "outputs": [],
   "source": [
    "def rewrite_query_syn(query: str) -> str:\n",
    "    word_scores = get_word_scores(query)\n",
    "    top_word, top_word_data = sorted(word_scores.items(), reverse=True, key=lambda x: x[1]['score'])[0]\n",
    "    print(top_word)\n",
    "    syns = top_word_data['syn']['synonyms']\n",
    "    pos = top_word_data['pos']['pos']\n",
    "\n",
    "    if len(syns) > 2:\n",
    "        syns = syns[:2]\n",
    "    syns_to_add = [syn.name().split('.')[0] for syn in syns]\n",
    "    syns_to_add = [syn for syn in syns_to_add if syn != top_word]\n",
    "    print(syns_to_add)\n",
    "\n",
    "    if pos.startswith('VB'):\n",
    "        query_list = query.split(' ')\n",
    "        idx = query_list.index(top_word)\n",
    "        for syn in syns_to_add:\n",
    "            query_list.insert(idx, syn)\n",
    "        print(query_list)\n",
    "        query = ' '.join(query_list)\n",
    "\n",
    "    if pos.startswith('NN'):\n",
    "        query = query + ' ' + ' '.join(syns_to_add)\n",
    "\n",
    "    return query\n",
    "\n",
    "# query = \"how can i train a siberian husky\"\n",
    "# rewrite_query(query)"
   ]
  },
  {
   "cell_type": "markdown",
   "metadata": {},
   "source": [
    "This time, we'll evalute on _all_ queries in the dataset. This will give us a more general result:\n"
   ]
  },
  {
   "cell_type": "code",
   "execution_count": 68,
   "metadata": {
    "ExecuteTime": {
     "end_time": "2025-02-13T11:35:45.343533300Z",
     "start_time": "2025-02-13T11:35:38.744041800Z"
    }
   },
   "outputs": [
    {
     "name": "stderr",
     "output_type": "stream",
     "text": [
      "[INFO] Please confirm you agree to the authors' data usage agreement found at <https://ciir.cs.umass.edu/downloads/Antique/readme.txt>\n",
      "[INFO] [starting] https://ciir.cs.umass.edu/downloads/Antique/antique-test-queries.txt\n",
      "[INFO] [finished] https://ciir.cs.umass.edu/downloads/Antique/antique-test-queries.txt: [00:00] [11.4kB] [146kB/s]\n",
      "                                                                                                \r"
     ]
    },
    {
     "name": "stdout",
     "output_type": "stream",
     "text": [
      "score: 0.06179994498738492\n"
     ]
    }
   ],
   "source": [
    "print(\"score:\", evaluate_all())"
   ]
  },
  {
   "cell_type": "markdown",
   "metadata": {},
   "source": [
    "Are you able to improve the overall performance using your rewriting approach?\n"
   ]
  },
  {
   "cell_type": "code",
   "execution_count": 104,
   "metadata": {
    "ExecuteTime": {
     "end_time": "2025-02-24T14:25:56.999888Z",
     "start_time": "2025-02-24T14:25:23.455792200Z"
    }
   },
   "outputs": [
    {
     "name": "stdout",
     "output_type": "stream",
     "text": [
      "score after rewriting 0.03286984046687657\n"
     ]
    }
   ],
   "source": [
    "print(\"score after rewriting\", evaluate_all(rewrite_query))"
   ]
  }
 ],
 "metadata": {
  "kernelspec": {
   "display_name": "pt",
   "language": "python",
   "name": "python3"
  },
  "language_info": {
   "codemirror_mode": {
    "name": "ipython",
    "version": 3
   },
   "file_extension": ".py",
   "mimetype": "text/x-python",
   "name": "python",
   "nbconvert_exporter": "python",
   "pygments_lexer": "ipython3",
   "version": "3.11.7"
  }
 },
 "nbformat": 4,
 "nbformat_minor": 2
}
